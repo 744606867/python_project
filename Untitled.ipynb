{
 "cells": [
  {
   "cell_type": "code",
   "execution_count": 2,
   "id": "650c18ec-d767-481a-bb4e-0a2d62dedf70",
   "metadata": {},
   "outputs": [],
   "source": [
    "import json\n",
    "from marshal import loads"
   ]
  },
  {
   "cell_type": "code",
   "execution_count": 3,
   "id": "7866de27-95ae-42a8-ac1b-a46e4eb88c83",
   "metadata": {},
   "outputs": [
    {
     "name": "stdout",
     "output_type": "stream",
     "text": [
      "市界到二环 (不含二环路)+客车全年可办理12次，每次限通行7天\n"
     ]
    }
   ],
   "source": [
    "\n",
    "\n",
    "import requests\n",
    "\n",
    "url = \"https://jjz.jtgl.beijing.gov.cn:2443/pro//applyRecordController/stateList\";\n",
    "\n",
    "headers = {\n",
    "    \"user-agent\": \"Mozilla/5.0 (Windows NT 10.0; Win64; x64) AppleWebKit/537.36 (KHTML, like Gecko) Chrome/130.0.0.0 Safari/537.36\",\n",
    "    \"Authorization\":\"161d1873e0684a0db11e123264f79092\"\n",
    "}\n",
    "\n",
    "def returnData():\n",
    "    response = requests.post(url, headers=headers).text\n",
    "    # with open('./a.json','w',encoding='utf-8') as file:\n",
    "    #     dump = json.dump(response,file,ensure_ascii=False)\n",
    "    #print(type(json.loads(response)), json.loads(response))\n",
    "    #print(json.loads(response)['data']['ylzqyms'])\n",
    "    ylzqyms_ = json.loads(response)['data']['ylzqyms']\n",
    "    return  ylzqyms_\n",
    "\n",
    "if __name__ == '__main__':\n",
    "    print(returnData())"
   ]
  },
  {
   "cell_type": "code",
   "execution_count": null,
   "id": "6cf4c944-70b6-4777-b840-0c22834de82e",
   "metadata": {},
   "outputs": [],
   "source": []
  }
 ],
 "metadata": {
  "kernelspec": {
   "display_name": "Python 3 (ipykernel)",
   "language": "python",
   "name": "python3"
  },
  "language_info": {
   "codemirror_mode": {
    "name": "ipython",
    "version": 3
   },
   "file_extension": ".py",
   "mimetype": "text/x-python",
   "name": "python",
   "nbconvert_exporter": "python",
   "pygments_lexer": "ipython3",
   "version": "3.12.9"
  }
 },
 "nbformat": 4,
 "nbformat_minor": 5
}
