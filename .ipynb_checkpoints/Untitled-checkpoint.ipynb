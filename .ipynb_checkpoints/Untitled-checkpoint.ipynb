{
 "cells": [
  {
   "cell_type": "code",
   "execution_count": 1,
   "id": "650c18ec-d767-481a-bb4e-0a2d62dedf70",
   "metadata": {},
   "outputs": [],
   "source": [
    "import json\n",
    "from marshal import loads"
   ]
  },
  {
   "cell_type": "code",
   "execution_count": 2,
   "id": "7866de27-95ae-42a8-ac1b-a46e4eb88c83",
   "metadata": {},
   "outputs": [
    {
     "ename": "NameError",
     "evalue": "name 'json' is not defined",
     "output_type": "error",
     "traceback": [
      "\u001b[1;31m---------------------------------------------------------------------------\u001b[0m",
      "\u001b[1;31mNameError\u001b[0m                                 Traceback (most recent call last)",
      "Cell \u001b[1;32mIn[2], line 22\u001b[0m\n\u001b[0;32m     19\u001b[0m     \u001b[38;5;28;01mreturn\u001b[39;00m  ylzqyms_\n\u001b[0;32m     21\u001b[0m \u001b[38;5;28;01mif\u001b[39;00m \u001b[38;5;18m__name__\u001b[39m \u001b[38;5;241m==\u001b[39m \u001b[38;5;124m'\u001b[39m\u001b[38;5;124m__main__\u001b[39m\u001b[38;5;124m'\u001b[39m:\n\u001b[1;32m---> 22\u001b[0m     \u001b[38;5;28mprint\u001b[39m(returnData())\n",
      "Cell \u001b[1;32mIn[2], line 18\u001b[0m, in \u001b[0;36mreturnData\u001b[1;34m()\u001b[0m\n\u001b[0;32m     13\u001b[0m response \u001b[38;5;241m=\u001b[39m requests\u001b[38;5;241m.\u001b[39mpost(url, headers\u001b[38;5;241m=\u001b[39mheaders)\u001b[38;5;241m.\u001b[39mtext\n\u001b[0;32m     14\u001b[0m \u001b[38;5;66;03m# with open('./a.json','w',encoding='utf-8') as file:\u001b[39;00m\n\u001b[0;32m     15\u001b[0m \u001b[38;5;66;03m#     dump = json.dump(response,file,ensure_ascii=False)\u001b[39;00m\n\u001b[0;32m     16\u001b[0m \u001b[38;5;66;03m#print(type(json.loads(response)), json.loads(response))\u001b[39;00m\n\u001b[0;32m     17\u001b[0m \u001b[38;5;66;03m#print(json.loads(response)['data']['ylzqyms'])\u001b[39;00m\n\u001b[1;32m---> 18\u001b[0m ylzqyms_ \u001b[38;5;241m=\u001b[39m json\u001b[38;5;241m.\u001b[39mloads(response)[\u001b[38;5;124m'\u001b[39m\u001b[38;5;124mdata\u001b[39m\u001b[38;5;124m'\u001b[39m][\u001b[38;5;124m'\u001b[39m\u001b[38;5;124mylzqyms\u001b[39m\u001b[38;5;124m'\u001b[39m]\n\u001b[0;32m     19\u001b[0m \u001b[38;5;28;01mreturn\u001b[39;00m  ylzqyms_\n",
      "\u001b[1;31mNameError\u001b[0m: name 'json' is not defined"
     ]
    }
   ],
   "source": [
    "\n",
    "\n",
    "import requests\n",
    "\n",
    "url = \"https://jjz.jtgl.beijing.gov.cn:2443/pro//applyRecordController/stateList\";\n",
    "\n",
    "headers = {\n",
    "    \"user-agent\": \"Mozilla/5.0 (Windows NT 10.0; Win64; x64) AppleWebKit/537.36 (KHTML, like Gecko) Chrome/130.0.0.0 Safari/537.36\",\n",
    "    \"Authorization\":\"161d1873e0684a0db11e123264f79092\"\n",
    "}\n",
    "\n",
    "def returnData():\n",
    "    response = requests.post(url, headers=headers).text\n",
    "    # with open('./a.json','w',encoding='utf-8') as file:\n",
    "    #     dump = json.dump(response,file,ensure_ascii=False)\n",
    "    #print(type(json.loads(response)), json.loads(response))\n",
    "    #print(json.loads(response)['data']['ylzqyms'])\n",
    "    ylzqyms_ = json.loads(response)['data']['ylzqyms']\n",
    "    return  ylzqyms_\n",
    "\n",
    "if __name__ == '__main__':\n",
    "    print(returnData())"
   ]
  },
  {
   "cell_type": "code",
   "execution_count": null,
   "id": "6cf4c944-70b6-4777-b840-0c22834de82e",
   "metadata": {},
   "outputs": [],
   "source": []
  }
 ],
 "metadata": {
  "kernelspec": {
   "display_name": "Python 3 (ipykernel)",
   "language": "python",
   "name": "python3"
  },
  "language_info": {
   "codemirror_mode": {
    "name": "ipython",
    "version": 3
   },
   "file_extension": ".py",
   "mimetype": "text/x-python",
   "name": "python",
   "nbconvert_exporter": "python",
   "pygments_lexer": "ipython3",
   "version": "3.12.9"
  }
 },
 "nbformat": 4,
 "nbformat_minor": 5
}
